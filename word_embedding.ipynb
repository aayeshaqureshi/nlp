{
  "nbformat": 4,
  "nbformat_minor": 0,
  "metadata": {
    "colab": {
      "provenance": [],
      "authorship_tag": "ABX9TyMrZttUiAo9TvBaHlbOBNvw",
      "include_colab_link": true
    },
    "kernelspec": {
      "name": "python3",
      "display_name": "Python 3"
    },
    "language_info": {
      "name": "python"
    }
  },
  "cells": [
    {
      "cell_type": "markdown",
      "metadata": {
        "id": "view-in-github",
        "colab_type": "text"
      },
      "source": [
        "<a href=\"https://colab.research.google.com/github/aayeshaqureshi/nlp/blob/main/word_embedding.ipynb\" target=\"_parent\"><img src=\"https://colab.research.google.com/assets/colab-badge.svg\" alt=\"Open In Colab\"/></a>"
      ]
    },
    {
      "cell_type": "code",
      "execution_count": null,
      "metadata": {
        "colab": {
          "base_uri": "https://localhost:8080/"
        },
        "id": "3mpoa25z6cWF",
        "outputId": "a84edd67-9bf9-4818-c533-965aab64862d"
      },
      "outputs": [
        {
          "output_type": "stream",
          "name": "stdout",
          "text": [
            "Looking in indexes: https://pypi.org/simple, https://us-python.pkg.dev/colab-wheels/public/simple/\n",
            "Collecting tensorflow-gpu\n",
            "  Downloading tensorflow_gpu-2.11.0-cp37-cp37m-manylinux_2_17_x86_64.manylinux2014_x86_64.whl (588.3 MB)\n",
            "\u001b[K     |████████████████████████████████| 588.3 MB 6.6 kB/s \n",
            "\u001b[?25hCollecting keras<2.12,>=2.11.0\n",
            "  Downloading keras-2.11.0-py2.py3-none-any.whl (1.7 MB)\n",
            "\u001b[K     |████████████████████████████████| 1.7 MB 54.4 MB/s \n",
            "\u001b[?25hCollecting tensorflow-estimator<2.12,>=2.11.0\n",
            "  Downloading tensorflow_estimator-2.11.0-py2.py3-none-any.whl (439 kB)\n",
            "\u001b[K     |████████████████████████████████| 439 kB 54.2 MB/s \n",
            "\u001b[?25hRequirement already satisfied: typing-extensions>=3.6.6 in /usr/local/lib/python3.7/dist-packages (from tensorflow-gpu) (4.1.1)\n",
            "Collecting tensorboard<2.12,>=2.11\n",
            "  Downloading tensorboard-2.11.0-py3-none-any.whl (6.0 MB)\n",
            "\u001b[K     |████████████████████████████████| 6.0 MB 48.8 MB/s \n",
            "\u001b[?25hRequirement already satisfied: wrapt>=1.11.0 in /usr/local/lib/python3.7/dist-packages (from tensorflow-gpu) (1.14.1)\n",
            "Requirement already satisfied: tensorflow-io-gcs-filesystem>=0.23.1 in /usr/local/lib/python3.7/dist-packages (from tensorflow-gpu) (0.27.0)\n",
            "Requirement already satisfied: grpcio<2.0,>=1.24.3 in /usr/local/lib/python3.7/dist-packages (from tensorflow-gpu) (1.50.0)\n",
            "Requirement already satisfied: numpy>=1.20 in /usr/local/lib/python3.7/dist-packages (from tensorflow-gpu) (1.21.6)\n",
            "Requirement already satisfied: h5py>=2.9.0 in /usr/local/lib/python3.7/dist-packages (from tensorflow-gpu) (3.1.0)\n",
            "Requirement already satisfied: opt-einsum>=2.3.2 in /usr/local/lib/python3.7/dist-packages (from tensorflow-gpu) (3.3.0)\n",
            "Requirement already satisfied: six>=1.12.0 in /usr/local/lib/python3.7/dist-packages (from tensorflow-gpu) (1.15.0)\n",
            "Requirement already satisfied: google-pasta>=0.1.1 in /usr/local/lib/python3.7/dist-packages (from tensorflow-gpu) (0.2.0)\n",
            "Requirement already satisfied: protobuf<3.20,>=3.9.2 in /usr/local/lib/python3.7/dist-packages (from tensorflow-gpu) (3.19.6)\n",
            "Requirement already satisfied: packaging in /usr/local/lib/python3.7/dist-packages (from tensorflow-gpu) (21.3)\n",
            "Requirement already satisfied: astunparse>=1.6.0 in /usr/local/lib/python3.7/dist-packages (from tensorflow-gpu) (1.6.3)\n",
            "Requirement already satisfied: gast<=0.4.0,>=0.2.1 in /usr/local/lib/python3.7/dist-packages (from tensorflow-gpu) (0.4.0)\n",
            "Collecting flatbuffers>=2.0\n",
            "  Downloading flatbuffers-22.10.26-py2.py3-none-any.whl (26 kB)\n",
            "Requirement already satisfied: libclang>=13.0.0 in /usr/local/lib/python3.7/dist-packages (from tensorflow-gpu) (14.0.6)\n",
            "Requirement already satisfied: absl-py>=1.0.0 in /usr/local/lib/python3.7/dist-packages (from tensorflow-gpu) (1.3.0)\n",
            "Requirement already satisfied: termcolor>=1.1.0 in /usr/local/lib/python3.7/dist-packages (from tensorflow-gpu) (2.1.0)\n",
            "Requirement already satisfied: setuptools in /usr/local/lib/python3.7/dist-packages (from tensorflow-gpu) (57.4.0)\n",
            "Requirement already satisfied: wheel<1.0,>=0.23.0 in /usr/local/lib/python3.7/dist-packages (from astunparse>=1.6.0->tensorflow-gpu) (0.38.3)\n",
            "Requirement already satisfied: cached-property in /usr/local/lib/python3.7/dist-packages (from h5py>=2.9.0->tensorflow-gpu) (1.5.2)\n",
            "Requirement already satisfied: google-auth<3,>=1.6.3 in /usr/local/lib/python3.7/dist-packages (from tensorboard<2.12,>=2.11->tensorflow-gpu) (2.14.1)\n",
            "Requirement already satisfied: tensorboard-data-server<0.7.0,>=0.6.0 in /usr/local/lib/python3.7/dist-packages (from tensorboard<2.12,>=2.11->tensorflow-gpu) (0.6.1)\n",
            "Requirement already satisfied: requests<3,>=2.21.0 in /usr/local/lib/python3.7/dist-packages (from tensorboard<2.12,>=2.11->tensorflow-gpu) (2.23.0)\n",
            "Requirement already satisfied: tensorboard-plugin-wit>=1.6.0 in /usr/local/lib/python3.7/dist-packages (from tensorboard<2.12,>=2.11->tensorflow-gpu) (1.8.1)\n",
            "Requirement already satisfied: werkzeug>=1.0.1 in /usr/local/lib/python3.7/dist-packages (from tensorboard<2.12,>=2.11->tensorflow-gpu) (1.0.1)\n",
            "Requirement already satisfied: google-auth-oauthlib<0.5,>=0.4.1 in /usr/local/lib/python3.7/dist-packages (from tensorboard<2.12,>=2.11->tensorflow-gpu) (0.4.6)\n",
            "Requirement already satisfied: markdown>=2.6.8 in /usr/local/lib/python3.7/dist-packages (from tensorboard<2.12,>=2.11->tensorflow-gpu) (3.4.1)\n",
            "Requirement already satisfied: cachetools<6.0,>=2.0.0 in /usr/local/lib/python3.7/dist-packages (from google-auth<3,>=1.6.3->tensorboard<2.12,>=2.11->tensorflow-gpu) (5.2.0)\n",
            "Requirement already satisfied: pyasn1-modules>=0.2.1 in /usr/local/lib/python3.7/dist-packages (from google-auth<3,>=1.6.3->tensorboard<2.12,>=2.11->tensorflow-gpu) (0.2.8)\n",
            "Requirement already satisfied: rsa<5,>=3.1.4 in /usr/local/lib/python3.7/dist-packages (from google-auth<3,>=1.6.3->tensorboard<2.12,>=2.11->tensorflow-gpu) (4.9)\n",
            "Requirement already satisfied: requests-oauthlib>=0.7.0 in /usr/local/lib/python3.7/dist-packages (from google-auth-oauthlib<0.5,>=0.4.1->tensorboard<2.12,>=2.11->tensorflow-gpu) (1.3.1)\n",
            "Requirement already satisfied: importlib-metadata>=4.4 in /usr/local/lib/python3.7/dist-packages (from markdown>=2.6.8->tensorboard<2.12,>=2.11->tensorflow-gpu) (4.13.0)\n",
            "Requirement already satisfied: zipp>=0.5 in /usr/local/lib/python3.7/dist-packages (from importlib-metadata>=4.4->markdown>=2.6.8->tensorboard<2.12,>=2.11->tensorflow-gpu) (3.10.0)\n",
            "Requirement already satisfied: pyasn1<0.5.0,>=0.4.6 in /usr/local/lib/python3.7/dist-packages (from pyasn1-modules>=0.2.1->google-auth<3,>=1.6.3->tensorboard<2.12,>=2.11->tensorflow-gpu) (0.4.8)\n",
            "Requirement already satisfied: certifi>=2017.4.17 in /usr/local/lib/python3.7/dist-packages (from requests<3,>=2.21.0->tensorboard<2.12,>=2.11->tensorflow-gpu) (2022.9.24)\n",
            "Requirement already satisfied: urllib3!=1.25.0,!=1.25.1,<1.26,>=1.21.1 in /usr/local/lib/python3.7/dist-packages (from requests<3,>=2.21.0->tensorboard<2.12,>=2.11->tensorflow-gpu) (1.24.3)\n",
            "Requirement already satisfied: chardet<4,>=3.0.2 in /usr/local/lib/python3.7/dist-packages (from requests<3,>=2.21.0->tensorboard<2.12,>=2.11->tensorflow-gpu) (3.0.4)\n",
            "Requirement already satisfied: idna<3,>=2.5 in /usr/local/lib/python3.7/dist-packages (from requests<3,>=2.21.0->tensorboard<2.12,>=2.11->tensorflow-gpu) (2.10)\n",
            "Requirement already satisfied: oauthlib>=3.0.0 in /usr/local/lib/python3.7/dist-packages (from requests-oauthlib>=0.7.0->google-auth-oauthlib<0.5,>=0.4.1->tensorboard<2.12,>=2.11->tensorflow-gpu) (3.2.2)\n",
            "Requirement already satisfied: pyparsing!=3.0.5,>=2.0.2 in /usr/local/lib/python3.7/dist-packages (from packaging->tensorflow-gpu) (3.0.9)\n",
            "Installing collected packages: tensorflow-estimator, tensorboard, keras, flatbuffers, tensorflow-gpu\n",
            "  Attempting uninstall: tensorflow-estimator\n",
            "    Found existing installation: tensorflow-estimator 2.9.0\n",
            "    Uninstalling tensorflow-estimator-2.9.0:\n",
            "      Successfully uninstalled tensorflow-estimator-2.9.0\n",
            "  Attempting uninstall: tensorboard\n",
            "    Found existing installation: tensorboard 2.9.1\n",
            "    Uninstalling tensorboard-2.9.1:\n",
            "      Successfully uninstalled tensorboard-2.9.1\n",
            "  Attempting uninstall: keras\n",
            "    Found existing installation: keras 2.9.0\n",
            "    Uninstalling keras-2.9.0:\n",
            "      Successfully uninstalled keras-2.9.0\n",
            "  Attempting uninstall: flatbuffers\n",
            "    Found existing installation: flatbuffers 1.12\n",
            "    Uninstalling flatbuffers-1.12:\n",
            "      Successfully uninstalled flatbuffers-1.12\n",
            "\u001b[31mERROR: pip's dependency resolver does not currently take into account all the packages that are installed. This behaviour is the source of the following dependency conflicts.\n",
            "tensorflow 2.9.2 requires flatbuffers<2,>=1.12, but you have flatbuffers 22.10.26 which is incompatible.\n",
            "tensorflow 2.9.2 requires keras<2.10.0,>=2.9.0rc0, but you have keras 2.11.0 which is incompatible.\n",
            "tensorflow 2.9.2 requires tensorboard<2.10,>=2.9, but you have tensorboard 2.11.0 which is incompatible.\n",
            "tensorflow 2.9.2 requires tensorflow-estimator<2.10.0,>=2.9.0rc0, but you have tensorflow-estimator 2.11.0 which is incompatible.\u001b[0m\n",
            "Successfully installed flatbuffers-22.10.26 keras-2.11.0 tensorboard-2.11.0 tensorflow-estimator-2.11.0 tensorflow-gpu-2.11.0\n"
          ]
        }
      ],
      "source": [
        "!pip install tensorflow-gpu "
      ]
    },
    {
      "cell_type": "code",
      "source": [
        "#lets import tesnorflow and check the version \n",
        "import tensorflow as tf \n",
        "print(tf.__version__)"
      ],
      "metadata": {
        "colab": {
          "base_uri": "https://localhost:8080/"
        },
        "id": "J6RPmDB-7Ike",
        "outputId": "3cc18ec3-aa80-4fcc-b4db-1c244df06882"
      },
      "execution_count": null,
      "outputs": [
        {
          "output_type": "stream",
          "name": "stdout",
          "text": [
            "2.11.0\n"
          ]
        }
      ]
    },
    {
      "cell_type": "markdown",
      "source": [
        "ONE HOT IS A LIBRARY IN TENSOR FLOW TO PERFORM ONE HOT ENCODING"
      ],
      "metadata": {
        "id": "VPjpld9O7onP"
      }
    },
    {
      "cell_type": "code",
      "source": [
        "from tensorflow.keras.preprocessing.text import one_hot "
      ],
      "metadata": {
        "id": "-WGdffd_7x91"
      },
      "execution_count": null,
      "outputs": []
    },
    {
      "cell_type": "code",
      "source": [
        "#sentences are given. our aim is to convert these sentences into some form of vectors\n",
        "sentence= ['the glass of milk',\n",
        "           'the glass of juice',\n",
        "           'the cup of tea',\n",
        "           'I am a good boy',\n",
        "           'I am a good developer',\n",
        "           'understand the meaning of words',\n",
        "           'your videos are good',\n",
        "    \n",
        "]"
      ],
      "metadata": {
        "id": "sQYWblYx8Ezk"
      },
      "execution_count": null,
      "outputs": []
    },
    {
      "cell_type": "code",
      "source": [
        "sentence"
      ],
      "metadata": {
        "colab": {
          "base_uri": "https://localhost:8080/"
        },
        "id": "OCIEGdQ6Av8B",
        "outputId": "b5304aa2-cd16-4967-ee6e-a605df97d020"
      },
      "execution_count": null,
      "outputs": [
        {
          "output_type": "execute_result",
          "data": {
            "text/plain": [
              "['the glass of milk',\n",
              " 'the glass of juice',\n",
              " 'the cup of tea',\n",
              " 'I am a good boy',\n",
              " 'I am a good developer',\n",
              " 'understand the meaning of words',\n",
              " 'your videos are good']"
            ]
          },
          "metadata": {},
          "execution_count": 5
        }
      ]
    },
    {
      "cell_type": "markdown",
      "source": [
        "# We are going to use one hot encoding to convert the words and then we convert these into vectors using embedding layers\n"
      ],
      "metadata": {
        "id": "VkKsv3tkBIxc"
      }
    },
    {
      "cell_type": "code",
      "source": [
        "# we are gonna take vocab size as 10000 for training the words"
      ],
      "metadata": {
        "id": "zkJfZaSABEZd"
      },
      "execution_count": null,
      "outputs": []
    },
    {
      "cell_type": "code",
      "source": [
        "voc_size = 10000"
      ],
      "metadata": {
        "id": "HeB7wQyqBEX8"
      },
      "execution_count": null,
      "outputs": []
    },
    {
      "cell_type": "markdown",
      "source": [
        "# ONE HOT ENCODING\n",
        "We have our own data so we use OHE"
      ],
      "metadata": {
        "id": "ogIu6J29Ccg2"
      }
    },
    {
      "cell_type": "code",
      "source": [
        "#words and voc size is given in the parameters\n",
        "#this will give us the one hot rep for each word\n",
        "#for each word there will be index one where it is found\n",
        "#we get the index number where the word is 1 or present"
      ],
      "metadata": {
        "id": "hEW3Yh_QBET3"
      },
      "execution_count": null,
      "outputs": []
    },
    {
      "cell_type": "code",
      "source": [
        "onehot_repr= [one_hot(words, voc_size) for words in sentence]\n",
        "print(onehot_repr)\n",
        "#every square bracket is a sentence\n",
        "#there is the word the in index 4206"
      ],
      "metadata": {
        "colab": {
          "base_uri": "https://localhost:8080/"
        },
        "id": "MaihprnoBESU",
        "outputId": "84724b5b-f156-4e36-bc8d-8ffbbecab7a3"
      },
      "execution_count": null,
      "outputs": [
        {
          "output_type": "stream",
          "name": "stdout",
          "text": [
            "[[4206, 2550, 8607, 951], [4206, 2550, 8607, 207], [4206, 271, 8607, 4157], [7344, 669, 7931, 7549, 1392], [7344, 669, 7931, 7549, 1963], [8818, 4206, 7966, 8607, 2985], [5476, 8593, 8992, 7549]]\n"
          ]
        }
      ]
    },
    {
      "cell_type": "markdown",
      "source": [
        "## WORD EMBEDDING REPRESENTATION"
      ],
      "metadata": {
        "id": "VbojkVy-EhpH"
      }
    },
    {
      "cell_type": "code",
      "source": [
        "#we install some of the libraries such as embeddig\n",
        "# pad sequences is used for pre and post padding\n",
        "#sequential\n",
        "from tensorflow.keras.layers import Embedding\n",
        "from tensorflow.keras.preprocessing.sequence import pad_sequences\n",
        "from  tensorflow.keras.models import Sequential"
      ],
      "metadata": {
        "id": "yJU10yQWEg-d"
      },
      "execution_count": null,
      "outputs": []
    },
    {
      "cell_type": "code",
      "source": [
        "import numpy as np"
      ],
      "metadata": {
        "id": "cVlhuZghBEOG"
      },
      "execution_count": null,
      "outputs": []
    },
    {
      "cell_type": "code",
      "source": [
        "#assigning max sentence length as 8\n",
        "sent_length=8\n",
        "#pad sequnces is going to make all vectors of 8 size- for uniformity \n",
        "# the first one has 4 indexes so we add 4 more zeroes\n",
        "#if there are 5 indexes we will add 3 more zeroes\n"
      ],
      "metadata": {
        "id": "W4KYUfB4KZnl"
      },
      "execution_count": null,
      "outputs": []
    },
    {
      "cell_type": "markdown",
      "source": [
        "the problem we were facing here was that our input size is not fied so we made sure to fix the input size using padding \n"
      ],
      "metadata": {
        "id": "VLmKCOgBNd4U"
      }
    },
    {
      "cell_type": "code",
      "source": [
        "embedded_docs=pad_sequences(onehot_repr, padding='pre',maxlen= sent_length)\n",
        "#if u set padding front then it sets it to zeroes before\n",
        "#if u set padding to post it sets it to zeroes after"
      ],
      "metadata": {
        "id": "cnMHptgZKZl-"
      },
      "execution_count": null,
      "outputs": []
    },
    {
      "cell_type": "code",
      "source": [
        "print(embedded_docs)"
      ],
      "metadata": {
        "colab": {
          "base_uri": "https://localhost:8080/"
        },
        "id": "9QAbiwdtKZiQ",
        "outputId": "b502d1ef-cb81-4d41-a86b-bcdcb933572c"
      },
      "execution_count": null,
      "outputs": [
        {
          "output_type": "stream",
          "name": "stdout",
          "text": [
            "[[   0    0    0    0 4206 2550 8607  951]\n",
            " [   0    0    0    0 4206 2550 8607  207]\n",
            " [   0    0    0    0 4206  271 8607 4157]\n",
            " [   0    0    0 7344  669 7931 7549 1392]\n",
            " [   0    0    0 7344  669 7931 7549 1963]\n",
            " [   0    0    0 8818 4206 7966 8607 2985]\n",
            " [   0    0    0    0 5476 8593 8992 7549]]\n"
          ]
        }
      ]
    },
    {
      "cell_type": "markdown",
      "source": [
        "## we convert each and every feature into vectors\n",
        "vectors - eacha nd every features has its own features further "
      ],
      "metadata": {
        "id": "W-XBe5gLPjdo"
      }
    },
    {
      "cell_type": "code",
      "source": [
        "#feature representation dimensions is 10\n",
        "#set feature rep dimensions as 10\n",
        "dim=10"
      ],
      "metadata": {
        "id": "UirUnD4VKZg2"
      },
      "execution_count": null,
      "outputs": []
    },
    {
      "cell_type": "markdown",
      "source": [
        "## CREATE A SEQUENTIAL MODEL"
      ],
      "metadata": {
        "id": "QCFeGGEOQG3Q"
      }
    },
    {
      "cell_type": "code",
      "source": [
        "model= Sequential()\n",
        "#parameters: 1. is voc_size we took it as 10000\n",
        "#2. how many features u want for each vector \n",
        "#3. specify the input length\n",
        "model.add(Embedding(voc_size, 10, input_length= sent_length))"
      ],
      "metadata": {
        "id": "Ju6mVsPBKZc9"
      },
      "execution_count": null,
      "outputs": []
    },
    {
      "cell_type": "code",
      "source": [
        "#we are using adam optimzer and mean square error\n",
        "model.compile('adam','mse')"
      ],
      "metadata": {
        "id": "Tda0ZsIwKZbR"
      },
      "execution_count": null,
      "outputs": []
    },
    {
      "cell_type": "code",
      "source": [
        "model.summary()"
      ],
      "metadata": {
        "colab": {
          "base_uri": "https://localhost:8080/"
        },
        "id": "g3c2SuwXKZXP",
        "outputId": "e6c5bf56-f005-4581-8fed-012d23502236"
      },
      "execution_count": null,
      "outputs": [
        {
          "output_type": "stream",
          "name": "stdout",
          "text": [
            "Model: \"sequential\"\n",
            "_________________________________________________________________\n",
            " Layer (type)                Output Shape              Param #   \n",
            "=================================================================\n",
            " embedding (Embedding)       (None, 8, 10)             100000    \n",
            "                                                                 \n",
            "=================================================================\n",
            "Total params: 100,000\n",
            "Trainable params: 100,000\n",
            "Non-trainable params: 0\n",
            "_________________________________________________________________\n"
          ]
        }
      ]
    },
    {
      "cell_type": "code",
      "source": [
        "#checking for the first sentence- glass of milk\n",
        "embedded_docs[0]"
      ],
      "metadata": {
        "colab": {
          "base_uri": "https://localhost:8080/"
        },
        "id": "00rQLbQ_KZVp",
        "outputId": "795dff78-530f-46be-861b-4f5c656beb3c"
      },
      "execution_count": null,
      "outputs": [
        {
          "output_type": "execute_result",
          "data": {
            "text/plain": [
              "array([   0,    0,    0,    0, 4206, 2550, 8607,  951], dtype=int32)"
            ]
          },
          "metadata": {},
          "execution_count": 22
        }
      ]
    },
    {
      "cell_type": "code",
      "source": [
        "#if you want to see the feature representation of this model we use predict of embedded docs\n",
        "model.predict(embedded_docs[0])\n",
        "\n",
        "#each feature is represented by 10 feature dimensions\n"
      ],
      "metadata": {
        "colab": {
          "base_uri": "https://localhost:8080/"
        },
        "id": "naYaTOuVBEMi",
        "outputId": "c688b169-e6b8-4fbd-f875-15fe7780adf2"
      },
      "execution_count": null,
      "outputs": [
        {
          "output_type": "stream",
          "name": "stderr",
          "text": [
            "WARNING:tensorflow:Model was constructed with shape (None, 8) for input KerasTensor(type_spec=TensorSpec(shape=(None, 8), dtype=tf.float32, name='embedding_input'), name='embedding_input', description=\"created by layer 'embedding_input'\"), but it was called on an input with incompatible shape (None,).\n"
          ]
        },
        {
          "output_type": "stream",
          "name": "stdout",
          "text": [
            "1/1 [==============================] - 1s 553ms/step\n"
          ]
        },
        {
          "output_type": "execute_result",
          "data": {
            "text/plain": [
              "array([[ 0.03218989, -0.00977363,  0.03190937, -0.01127303, -0.01274774,\n",
              "         0.04836253, -0.04956652, -0.04022051,  0.01312622,  0.02887647],\n",
              "       [ 0.03218989, -0.00977363,  0.03190937, -0.01127303, -0.01274774,\n",
              "         0.04836253, -0.04956652, -0.04022051,  0.01312622,  0.02887647],\n",
              "       [ 0.03218989, -0.00977363,  0.03190937, -0.01127303, -0.01274774,\n",
              "         0.04836253, -0.04956652, -0.04022051,  0.01312622,  0.02887647],\n",
              "       [ 0.03218989, -0.00977363,  0.03190937, -0.01127303, -0.01274774,\n",
              "         0.04836253, -0.04956652, -0.04022051,  0.01312622,  0.02887647],\n",
              "       [ 0.03841702, -0.01727964, -0.01489743,  0.03985192,  0.0490088 ,\n",
              "        -0.02620417, -0.00596821,  0.00476018, -0.00926703, -0.00336843],\n",
              "       [-0.03500042, -0.00101609, -0.03817726,  0.03503856,  0.02806768,\n",
              "        -0.00768336, -0.03772421, -0.02176092,  0.04957275, -0.03060021],\n",
              "       [ 0.04075053, -0.02808684,  0.04888676, -0.00968386,  0.02162239,\n",
              "        -0.02189831, -0.00913107, -0.01450526,  0.01849696,  0.02291114],\n",
              "       [-0.00170984,  0.0102702 , -0.01259585, -0.04743252,  0.0420452 ,\n",
              "         0.03120338,  0.02411177, -0.04667498,  0.01461859,  0.01852806]],\n",
              "      dtype=float32)"
            ]
          },
          "metadata": {},
          "execution_count": 24
        }
      ]
    },
    {
      "cell_type": "code",
      "source": [
        "#if you want to do it for all the sentences \n",
        "print(model.predict(embedded_docs))"
      ],
      "metadata": {
        "colab": {
          "base_uri": "https://localhost:8080/"
        },
        "id": "z350sjfGBDMV",
        "outputId": "71ed64e7-5bbb-436f-8c76-1ce03340edc6"
      },
      "execution_count": null,
      "outputs": [
        {
          "output_type": "stream",
          "name": "stdout",
          "text": [
            "1/1 [==============================] - 0s 44ms/step\n",
            "[[[ 0.03218989 -0.00977363  0.03190937 -0.01127303 -0.01274774\n",
            "    0.04836253 -0.04956652 -0.04022051  0.01312622  0.02887647]\n",
            "  [ 0.03218989 -0.00977363  0.03190937 -0.01127303 -0.01274774\n",
            "    0.04836253 -0.04956652 -0.04022051  0.01312622  0.02887647]\n",
            "  [ 0.03218989 -0.00977363  0.03190937 -0.01127303 -0.01274774\n",
            "    0.04836253 -0.04956652 -0.04022051  0.01312622  0.02887647]\n",
            "  [ 0.03218989 -0.00977363  0.03190937 -0.01127303 -0.01274774\n",
            "    0.04836253 -0.04956652 -0.04022051  0.01312622  0.02887647]\n",
            "  [ 0.03841702 -0.01727964 -0.01489743  0.03985192  0.0490088\n",
            "   -0.02620417 -0.00596821  0.00476018 -0.00926703 -0.00336843]\n",
            "  [-0.03500042 -0.00101609 -0.03817726  0.03503856  0.02806768\n",
            "   -0.00768336 -0.03772421 -0.02176092  0.04957275 -0.03060021]\n",
            "  [ 0.04075053 -0.02808684  0.04888676 -0.00968386  0.02162239\n",
            "   -0.02189831 -0.00913107 -0.01450526  0.01849696  0.02291114]\n",
            "  [-0.00170984  0.0102702  -0.01259585 -0.04743252  0.0420452\n",
            "    0.03120338  0.02411177 -0.04667498  0.01461859  0.01852806]]\n",
            "\n",
            " [[ 0.03218989 -0.00977363  0.03190937 -0.01127303 -0.01274774\n",
            "    0.04836253 -0.04956652 -0.04022051  0.01312622  0.02887647]\n",
            "  [ 0.03218989 -0.00977363  0.03190937 -0.01127303 -0.01274774\n",
            "    0.04836253 -0.04956652 -0.04022051  0.01312622  0.02887647]\n",
            "  [ 0.03218989 -0.00977363  0.03190937 -0.01127303 -0.01274774\n",
            "    0.04836253 -0.04956652 -0.04022051  0.01312622  0.02887647]\n",
            "  [ 0.03218989 -0.00977363  0.03190937 -0.01127303 -0.01274774\n",
            "    0.04836253 -0.04956652 -0.04022051  0.01312622  0.02887647]\n",
            "  [ 0.03841702 -0.01727964 -0.01489743  0.03985192  0.0490088\n",
            "   -0.02620417 -0.00596821  0.00476018 -0.00926703 -0.00336843]\n",
            "  [-0.03500042 -0.00101609 -0.03817726  0.03503856  0.02806768\n",
            "   -0.00768336 -0.03772421 -0.02176092  0.04957275 -0.03060021]\n",
            "  [ 0.04075053 -0.02808684  0.04888676 -0.00968386  0.02162239\n",
            "   -0.02189831 -0.00913107 -0.01450526  0.01849696  0.02291114]\n",
            "  [ 0.02092154 -0.02673778  0.00033259 -0.03405771 -0.03753272\n",
            "    0.02793146 -0.02717971  0.01124154  0.01971153  0.01500909]]\n",
            "\n",
            " [[ 0.03218989 -0.00977363  0.03190937 -0.01127303 -0.01274774\n",
            "    0.04836253 -0.04956652 -0.04022051  0.01312622  0.02887647]\n",
            "  [ 0.03218989 -0.00977363  0.03190937 -0.01127303 -0.01274774\n",
            "    0.04836253 -0.04956652 -0.04022051  0.01312622  0.02887647]\n",
            "  [ 0.03218989 -0.00977363  0.03190937 -0.01127303 -0.01274774\n",
            "    0.04836253 -0.04956652 -0.04022051  0.01312622  0.02887647]\n",
            "  [ 0.03218989 -0.00977363  0.03190937 -0.01127303 -0.01274774\n",
            "    0.04836253 -0.04956652 -0.04022051  0.01312622  0.02887647]\n",
            "  [ 0.03841702 -0.01727964 -0.01489743  0.03985192  0.0490088\n",
            "   -0.02620417 -0.00596821  0.00476018 -0.00926703 -0.00336843]\n",
            "  [-0.02722877  0.0231312   0.02079057  0.01138907  0.02384979\n",
            "   -0.03721826  0.02363444 -0.01140774  0.01262368  0.03270478]\n",
            "  [ 0.04075053 -0.02808684  0.04888676 -0.00968386  0.02162239\n",
            "   -0.02189831 -0.00913107 -0.01450526  0.01849696  0.02291114]\n",
            "  [ 0.00935204  0.01478546  0.04125709  0.03915067  0.03939689\n",
            "   -0.01074721 -0.00452115  0.02703488  0.00578951  0.02930132]]\n",
            "\n",
            " [[ 0.03218989 -0.00977363  0.03190937 -0.01127303 -0.01274774\n",
            "    0.04836253 -0.04956652 -0.04022051  0.01312622  0.02887647]\n",
            "  [ 0.03218989 -0.00977363  0.03190937 -0.01127303 -0.01274774\n",
            "    0.04836253 -0.04956652 -0.04022051  0.01312622  0.02887647]\n",
            "  [ 0.03218989 -0.00977363  0.03190937 -0.01127303 -0.01274774\n",
            "    0.04836253 -0.04956652 -0.04022051  0.01312622  0.02887647]\n",
            "  [ 0.00200142  0.0277403   0.00710212 -0.01082844 -0.0351705\n",
            "    0.01938592  0.01690855 -0.03596763  0.02343578 -0.01145734]\n",
            "  [ 0.01152461 -0.04931072 -0.00238793  0.04142267 -0.00856624\n",
            "   -0.00117191  0.00077908  0.02573327  0.01268795 -0.01755868]\n",
            "  [-0.02575574  0.03143186  0.02109103  0.0279392  -0.04776858\n",
            "   -0.01583527 -0.03452919  0.02904854  0.01249189  0.01863804]\n",
            "  [ 0.01443838 -0.02044673  0.02539882  0.02640126  0.0206512\n",
            "    0.02254145  0.01841767  0.01802974 -0.03431138  0.0484106 ]\n",
            "  [ 0.01427544 -0.04386449  0.04596693 -0.03208642 -0.01115657\n",
            "   -0.01047022  0.0305487  -0.025368   -0.0028594   0.04839187]]\n",
            "\n",
            " [[ 0.03218989 -0.00977363  0.03190937 -0.01127303 -0.01274774\n",
            "    0.04836253 -0.04956652 -0.04022051  0.01312622  0.02887647]\n",
            "  [ 0.03218989 -0.00977363  0.03190937 -0.01127303 -0.01274774\n",
            "    0.04836253 -0.04956652 -0.04022051  0.01312622  0.02887647]\n",
            "  [ 0.03218989 -0.00977363  0.03190937 -0.01127303 -0.01274774\n",
            "    0.04836253 -0.04956652 -0.04022051  0.01312622  0.02887647]\n",
            "  [ 0.00200142  0.0277403   0.00710212 -0.01082844 -0.0351705\n",
            "    0.01938592  0.01690855 -0.03596763  0.02343578 -0.01145734]\n",
            "  [ 0.01152461 -0.04931072 -0.00238793  0.04142267 -0.00856624\n",
            "   -0.00117191  0.00077908  0.02573327  0.01268795 -0.01755868]\n",
            "  [-0.02575574  0.03143186  0.02109103  0.0279392  -0.04776858\n",
            "   -0.01583527 -0.03452919  0.02904854  0.01249189  0.01863804]\n",
            "  [ 0.01443838 -0.02044673  0.02539882  0.02640126  0.0206512\n",
            "    0.02254145  0.01841767  0.01802974 -0.03431138  0.0484106 ]\n",
            "  [ 0.01419016  0.02929598 -0.0146739   0.00359578  0.03282329\n",
            "    0.0468338   0.01799658 -0.02590133  0.0103955  -0.01257086]]\n",
            "\n",
            " [[ 0.03218989 -0.00977363  0.03190937 -0.01127303 -0.01274774\n",
            "    0.04836253 -0.04956652 -0.04022051  0.01312622  0.02887647]\n",
            "  [ 0.03218989 -0.00977363  0.03190937 -0.01127303 -0.01274774\n",
            "    0.04836253 -0.04956652 -0.04022051  0.01312622  0.02887647]\n",
            "  [ 0.03218989 -0.00977363  0.03190937 -0.01127303 -0.01274774\n",
            "    0.04836253 -0.04956652 -0.04022051  0.01312622  0.02887647]\n",
            "  [-0.01777535  0.0352911   0.03196358 -0.00806507  0.02570585\n",
            "   -0.00585945 -0.03061392 -0.02756505  0.04993439  0.02591697]\n",
            "  [ 0.03841702 -0.01727964 -0.01489743  0.03985192  0.0490088\n",
            "   -0.02620417 -0.00596821  0.00476018 -0.00926703 -0.00336843]\n",
            "  [-0.02622455  0.03802098 -0.04705518  0.04714474  0.00777002\n",
            "    0.04835797 -0.0356083   0.0382107  -0.0325708  -0.01680743]\n",
            "  [ 0.04075053 -0.02808684  0.04888676 -0.00968386  0.02162239\n",
            "   -0.02189831 -0.00913107 -0.01450526  0.01849696  0.02291114]\n",
            "  [ 0.02461172 -0.00382197 -0.04657831  0.00919216 -0.01999652\n",
            "   -0.02003518 -0.0253598   0.01327655 -0.03096917 -0.04951525]]\n",
            "\n",
            " [[ 0.03218989 -0.00977363  0.03190937 -0.01127303 -0.01274774\n",
            "    0.04836253 -0.04956652 -0.04022051  0.01312622  0.02887647]\n",
            "  [ 0.03218989 -0.00977363  0.03190937 -0.01127303 -0.01274774\n",
            "    0.04836253 -0.04956652 -0.04022051  0.01312622  0.02887647]\n",
            "  [ 0.03218989 -0.00977363  0.03190937 -0.01127303 -0.01274774\n",
            "    0.04836253 -0.04956652 -0.04022051  0.01312622  0.02887647]\n",
            "  [ 0.03218989 -0.00977363  0.03190937 -0.01127303 -0.01274774\n",
            "    0.04836253 -0.04956652 -0.04022051  0.01312622  0.02887647]\n",
            "  [ 0.00898516 -0.04215057  0.01489009  0.01811364  0.0179061\n",
            "    0.03122479 -0.01752354 -0.00051827  0.02421543  0.02159352]\n",
            "  [ 0.03615859  0.04075898 -0.01057129 -0.00444688 -0.04830649\n",
            "   -0.0168566  -0.02921396 -0.04549346  0.0369016  -0.00067756]\n",
            "  [-0.0317283   0.02662471 -0.04258011  0.01956794 -0.03197074\n",
            "    0.02029962  0.04400393  0.03578123 -0.04344302 -0.00091084]\n",
            "  [ 0.01443838 -0.02044673  0.02539882  0.02640126  0.0206512\n",
            "    0.02254145  0.01841767  0.01802974 -0.03431138  0.0484106 ]]]\n"
          ]
        }
      ]
    },
    {
      "cell_type": "code",
      "source": [
        "sent1=['the world is a better place',\n",
        "      'marvel series is my fav movie',\n",
        "      'I like DC movies',\n",
        "      'the cat is eating the food',\n",
        "      'tom and jerry is my favourite movie',\n",
        "      'python is my fav programming language'\n",
        "    \n",
        "]"
      ],
      "metadata": {
        "id": "Vcej_cRjVzEv"
      },
      "execution_count": null,
      "outputs": []
    },
    {
      "cell_type": "code",
      "source": [
        "vocab_size=500"
      ],
      "metadata": {
        "id": "8wqOa3oGbD49"
      },
      "execution_count": null,
      "outputs": []
    },
    {
      "cell_type": "markdown",
      "source": [
        "### 1. ONE HOT ENCODING "
      ],
      "metadata": {
        "id": "i7Bec-rrZcMw"
      }
    },
    {
      "cell_type": "code",
      "source": [
        "onehot_reprs= [one_hot(words, voc_size) for words in sent1]\n",
        "print(onehot_reprs)\n"
      ],
      "metadata": {
        "colab": {
          "base_uri": "https://localhost:8080/"
        },
        "id": "SFPriBQNVzAr",
        "outputId": "2d06f396-78c0-4876-acc5-9f7b5a7c4513"
      },
      "execution_count": null,
      "outputs": [
        {
          "output_type": "stream",
          "name": "stdout",
          "text": [
            "[[124, 30, 455, 266, 98, 46], [21, 460, 455, 477, 66, 370], [151, 492, 105, 200], [124, 418, 455, 449, 124, 313], [26, 222, 12, 455, 477, 315, 370], [192, 455, 477, 66, 472, 115]]\n"
          ]
        }
      ]
    },
    {
      "cell_type": "markdown",
      "source": [
        "### 2. WORD EMBEDDING"
      ],
      "metadata": {
        "id": "1useNDlCZy64"
      }
    },
    {
      "cell_type": "code",
      "source": [
        "sentence_length=10"
      ],
      "metadata": {
        "id": "cjemt8MvVy-v"
      },
      "execution_count": null,
      "outputs": []
    },
    {
      "cell_type": "code",
      "source": [
        "embedded_docs=pad_sequences(onehot_reprs, padding='post',maxlen= sentence_length)"
      ],
      "metadata": {
        "id": "mPOFy1szVy6w"
      },
      "execution_count": null,
      "outputs": []
    },
    {
      "cell_type": "code",
      "source": [
        "print(embedded_docs)"
      ],
      "metadata": {
        "colab": {
          "base_uri": "https://localhost:8080/"
        },
        "id": "0nyIP4jSVy5G",
        "outputId": "bf2d3782-46fb-44d4-8a2d-9117670384e0"
      },
      "execution_count": null,
      "outputs": [
        {
          "output_type": "stream",
          "name": "stdout",
          "text": [
            "[[124  30 455 266  98  46   0   0   0   0]\n",
            " [ 21 460 455 477  66 370   0   0   0   0]\n",
            " [151 492 105 200   0   0   0   0   0   0]\n",
            " [124 418 455 449 124 313   0   0   0   0]\n",
            " [ 26 222  12 455 477 315 370   0   0   0]\n",
            " [192 455 477  66 472 115   0   0   0   0]]\n"
          ]
        }
      ]
    },
    {
      "cell_type": "markdown",
      "source": [
        "### 3. CREATE A SEQUENTIAL MODEL"
      ],
      "metadata": {
        "id": "KBMwp_nRaPFr"
      }
    },
    {
      "cell_type": "code",
      "source": [
        "dim=10\n",
        "model= Sequential()\n",
        "model.add(Embedding(vocab_size, 10, input_length= sentence_length))\n"
      ],
      "metadata": {
        "id": "rc0nH9HxVy1a"
      },
      "execution_count": null,
      "outputs": []
    },
    {
      "cell_type": "code",
      "source": [
        "model.compile('adam','mse')"
      ],
      "metadata": {
        "id": "_AA6gEELbSyy"
      },
      "execution_count": null,
      "outputs": []
    },
    {
      "cell_type": "code",
      "source": [
        "model.summary()"
      ],
      "metadata": {
        "colab": {
          "base_uri": "https://localhost:8080/"
        },
        "id": "fBNfXgPEVyz_",
        "outputId": "98e22474-f22e-4a6b-a124-9af746b5aaf3"
      },
      "execution_count": null,
      "outputs": [
        {
          "output_type": "stream",
          "name": "stdout",
          "text": [
            "Model: \"sequential_1\"\n",
            "_________________________________________________________________\n",
            " Layer (type)                Output Shape              Param #   \n",
            "=================================================================\n",
            " embedding_1 (Embedding)     (None, 10, 10)            5000      \n",
            "                                                                 \n",
            "=================================================================\n",
            "Total params: 5,000\n",
            "Trainable params: 5,000\n",
            "Non-trainable params: 0\n",
            "_________________________________________________________________\n"
          ]
        }
      ]
    },
    {
      "cell_type": "code",
      "source": [
        "print(model.predict(embedded_docs))"
      ],
      "metadata": {
        "colab": {
          "base_uri": "https://localhost:8080/"
        },
        "id": "9u95-xPGVywH",
        "outputId": "a48d6d2a-c7ab-4f05-bdc9-c531fe1bb035"
      },
      "execution_count": null,
      "outputs": [
        {
          "output_type": "stream",
          "name": "stdout",
          "text": [
            "1/1 [==============================] - 0s 46ms/step\n",
            "[[[-1.63179636e-03  2.76004784e-02 -6.06377050e-03 -4.85909693e-02\n",
            "   -3.46118324e-02  3.19949426e-02 -7.28833675e-03  1.44860893e-03\n",
            "    2.60118507e-02  3.30248140e-02]\n",
            "  [ 2.39403732e-02 -1.10663474e-04  1.97241418e-02  4.27784771e-03\n",
            "    3.50763239e-02 -1.47997215e-03 -2.51560099e-02 -4.36683744e-03\n",
            "   -3.85417715e-02  6.56636804e-03]\n",
            "  [-1.63247585e-02  3.14583629e-03 -4.69005108e-03  2.09174789e-02\n",
            "    3.06092165e-02 -2.04161890e-02  2.94783004e-02 -3.10891159e-02\n",
            "    1.42978318e-02  4.08987664e-02]\n",
            "  [ 2.67292894e-02 -1.06962770e-03 -2.98388731e-02 -3.76718268e-02\n",
            "   -1.29605159e-02 -4.80149277e-02 -4.62107658e-02 -3.87960188e-02\n",
            "   -2.15676669e-02 -2.19223648e-03]\n",
            "  [-2.73064617e-02  2.88496353e-02 -2.99893320e-04  3.77072208e-02\n",
            "    3.44230793e-02  9.33873653e-03  3.71257104e-02 -1.01585016e-02\n",
            "   -2.10351869e-03  4.21457179e-02]\n",
            "  [ 1.69066302e-02  3.91832925e-02 -3.14971209e-02 -2.65794881e-02\n",
            "   -1.74515322e-03  3.74346860e-02 -4.30014841e-02 -1.44061930e-02\n",
            "   -1.09503642e-02  2.23282725e-03]\n",
            "  [-4.41696160e-02 -2.58668792e-02  3.69087569e-02 -4.52633500e-02\n",
            "   -3.67323384e-02  2.64056586e-02 -4.24191132e-02 -2.09178682e-02\n",
            "    2.07724087e-02  1.67176872e-03]\n",
            "  [-4.41696160e-02 -2.58668792e-02  3.69087569e-02 -4.52633500e-02\n",
            "   -3.67323384e-02  2.64056586e-02 -4.24191132e-02 -2.09178682e-02\n",
            "    2.07724087e-02  1.67176872e-03]\n",
            "  [-4.41696160e-02 -2.58668792e-02  3.69087569e-02 -4.52633500e-02\n",
            "   -3.67323384e-02  2.64056586e-02 -4.24191132e-02 -2.09178682e-02\n",
            "    2.07724087e-02  1.67176872e-03]\n",
            "  [-4.41696160e-02 -2.58668792e-02  3.69087569e-02 -4.52633500e-02\n",
            "   -3.67323384e-02  2.64056586e-02 -4.24191132e-02 -2.09178682e-02\n",
            "    2.07724087e-02  1.67176872e-03]]\n",
            "\n",
            " [[-3.74259837e-02 -1.21035352e-02  4.21768464e-02 -3.96581180e-02\n",
            "   -1.68298483e-02 -1.60812959e-02 -2.03794837e-02 -1.82088837e-02\n",
            "   -1.28395930e-02 -1.25019625e-03]\n",
            "  [ 4.01692726e-02  1.53606199e-02 -1.37901083e-02 -1.31441131e-02\n",
            "    3.21175568e-02  5.95284626e-03 -2.87554618e-02 -5.95214218e-03\n",
            "   -4.44308184e-02  4.74988855e-02]\n",
            "  [-1.63247585e-02  3.14583629e-03 -4.69005108e-03  2.09174789e-02\n",
            "    3.06092165e-02 -2.04161890e-02  2.94783004e-02 -3.10891159e-02\n",
            "    1.42978318e-02  4.08987664e-02]\n",
            "  [ 4.30021770e-02 -3.00680995e-02 -4.31266204e-02  4.17110585e-02\n",
            "   -4.02871519e-03 -9.26474482e-03 -4.24323454e-02  2.41095163e-02\n",
            "    1.91201009e-02  4.86542098e-02]\n",
            "  [ 2.09574141e-02 -1.64830908e-02 -2.29699258e-02 -1.81527846e-02\n",
            "   -4.98732328e-02  3.35147642e-02  3.60553600e-02 -7.29632378e-03\n",
            "   -2.83894427e-02 -4.01859879e-02]\n",
            "  [-1.88765172e-02 -6.16376474e-03 -1.43930428e-02  1.75968520e-02\n",
            "   -3.91107798e-03  1.46187060e-02  3.97720188e-03  3.24906595e-02\n",
            "   -4.38630097e-02 -1.19965151e-03]\n",
            "  [-4.41696160e-02 -2.58668792e-02  3.69087569e-02 -4.52633500e-02\n",
            "   -3.67323384e-02  2.64056586e-02 -4.24191132e-02 -2.09178682e-02\n",
            "    2.07724087e-02  1.67176872e-03]\n",
            "  [-4.41696160e-02 -2.58668792e-02  3.69087569e-02 -4.52633500e-02\n",
            "   -3.67323384e-02  2.64056586e-02 -4.24191132e-02 -2.09178682e-02\n",
            "    2.07724087e-02  1.67176872e-03]\n",
            "  [-4.41696160e-02 -2.58668792e-02  3.69087569e-02 -4.52633500e-02\n",
            "   -3.67323384e-02  2.64056586e-02 -4.24191132e-02 -2.09178682e-02\n",
            "    2.07724087e-02  1.67176872e-03]\n",
            "  [-4.41696160e-02 -2.58668792e-02  3.69087569e-02 -4.52633500e-02\n",
            "   -3.67323384e-02  2.64056586e-02 -4.24191132e-02 -2.09178682e-02\n",
            "    2.07724087e-02  1.67176872e-03]]\n",
            "\n",
            " [[ 3.04161794e-02 -2.11650021e-02  1.05081908e-02 -7.13939592e-03\n",
            "   -1.41422860e-02 -3.43007594e-02 -6.70188665e-03  3.27980556e-02\n",
            "    2.82613896e-02 -4.35823202e-02]\n",
            "  [ 1.54958107e-02  1.87583677e-02 -3.31380256e-02 -1.22541301e-02\n",
            "    3.43588032e-02  3.10290568e-02 -2.19889730e-03 -2.22168118e-03\n",
            "   -4.48676012e-02  2.77603380e-02]\n",
            "  [ 4.13003601e-02  5.66001981e-03 -2.71573197e-02  1.03599429e-02\n",
            "    1.28033273e-02  2.21673287e-02  5.91688231e-03  3.29935290e-02\n",
            "    1.14430673e-02 -3.92211787e-02]\n",
            "  [ 4.18169759e-02  1.87598579e-02 -1.03411078e-02  4.94009145e-02\n",
            "    6.90978765e-03  3.00074257e-02  4.40631844e-02 -1.12635382e-02\n",
            "   -4.86338139e-02  3.90970223e-02]\n",
            "  [-4.41696160e-02 -2.58668792e-02  3.69087569e-02 -4.52633500e-02\n",
            "   -3.67323384e-02  2.64056586e-02 -4.24191132e-02 -2.09178682e-02\n",
            "    2.07724087e-02  1.67176872e-03]\n",
            "  [-4.41696160e-02 -2.58668792e-02  3.69087569e-02 -4.52633500e-02\n",
            "   -3.67323384e-02  2.64056586e-02 -4.24191132e-02 -2.09178682e-02\n",
            "    2.07724087e-02  1.67176872e-03]\n",
            "  [-4.41696160e-02 -2.58668792e-02  3.69087569e-02 -4.52633500e-02\n",
            "   -3.67323384e-02  2.64056586e-02 -4.24191132e-02 -2.09178682e-02\n",
            "    2.07724087e-02  1.67176872e-03]\n",
            "  [-4.41696160e-02 -2.58668792e-02  3.69087569e-02 -4.52633500e-02\n",
            "   -3.67323384e-02  2.64056586e-02 -4.24191132e-02 -2.09178682e-02\n",
            "    2.07724087e-02  1.67176872e-03]\n",
            "  [-4.41696160e-02 -2.58668792e-02  3.69087569e-02 -4.52633500e-02\n",
            "   -3.67323384e-02  2.64056586e-02 -4.24191132e-02 -2.09178682e-02\n",
            "    2.07724087e-02  1.67176872e-03]\n",
            "  [-4.41696160e-02 -2.58668792e-02  3.69087569e-02 -4.52633500e-02\n",
            "   -3.67323384e-02  2.64056586e-02 -4.24191132e-02 -2.09178682e-02\n",
            "    2.07724087e-02  1.67176872e-03]]\n",
            "\n",
            " [[-1.63179636e-03  2.76004784e-02 -6.06377050e-03 -4.85909693e-02\n",
            "   -3.46118324e-02  3.19949426e-02 -7.28833675e-03  1.44860893e-03\n",
            "    2.60118507e-02  3.30248140e-02]\n",
            "  [ 2.12607495e-02 -4.36294451e-02  8.98253918e-03 -3.30208912e-02\n",
            "   -1.97528955e-02 -4.87411879e-02 -1.81674846e-02  1.74551047e-02\n",
            "    6.32438809e-03 -2.08240990e-02]\n",
            "  [-1.63247585e-02  3.14583629e-03 -4.69005108e-03  2.09174789e-02\n",
            "    3.06092165e-02 -2.04161890e-02  2.94783004e-02 -3.10891159e-02\n",
            "    1.42978318e-02  4.08987664e-02]\n",
            "  [ 3.83971222e-02 -6.21362776e-03  1.08277798e-03 -5.39097935e-03\n",
            "   -8.44764709e-03 -1.24805681e-02  3.24337557e-03  1.09670758e-02\n",
            "    2.14435570e-02 -4.35611606e-02]\n",
            "  [-1.63179636e-03  2.76004784e-02 -6.06377050e-03 -4.85909693e-02\n",
            "   -3.46118324e-02  3.19949426e-02 -7.28833675e-03  1.44860893e-03\n",
            "    2.60118507e-02  3.30248140e-02]\n",
            "  [-4.71940748e-02  4.97836806e-02  2.95442678e-02  2.95506828e-02\n",
            "    2.32418664e-02  1.05644241e-02 -3.52588408e-02  1.72403939e-02\n",
            "    3.53149660e-02  7.30119646e-04]\n",
            "  [-4.41696160e-02 -2.58668792e-02  3.69087569e-02 -4.52633500e-02\n",
            "   -3.67323384e-02  2.64056586e-02 -4.24191132e-02 -2.09178682e-02\n",
            "    2.07724087e-02  1.67176872e-03]\n",
            "  [-4.41696160e-02 -2.58668792e-02  3.69087569e-02 -4.52633500e-02\n",
            "   -3.67323384e-02  2.64056586e-02 -4.24191132e-02 -2.09178682e-02\n",
            "    2.07724087e-02  1.67176872e-03]\n",
            "  [-4.41696160e-02 -2.58668792e-02  3.69087569e-02 -4.52633500e-02\n",
            "   -3.67323384e-02  2.64056586e-02 -4.24191132e-02 -2.09178682e-02\n",
            "    2.07724087e-02  1.67176872e-03]\n",
            "  [-4.41696160e-02 -2.58668792e-02  3.69087569e-02 -4.52633500e-02\n",
            "   -3.67323384e-02  2.64056586e-02 -4.24191132e-02 -2.09178682e-02\n",
            "    2.07724087e-02  1.67176872e-03]]\n",
            "\n",
            " [[ 2.44228952e-02  4.90965694e-03  4.80213054e-02  6.63180277e-03\n",
            "   -1.09120235e-02  7.13640451e-03  2.69316323e-02 -2.11377274e-02\n",
            "    4.95531894e-02  3.61260884e-02]\n",
            "  [-3.46092954e-02  4.61146124e-02 -4.67785709e-02  2.39647962e-02\n",
            "   -1.45954378e-02 -1.57580972e-02  3.37519385e-02 -2.14675814e-03\n",
            "   -4.72181551e-02  5.49104065e-03]\n",
            "  [-2.59124525e-02  2.96210684e-02  3.36465873e-02  4.42999937e-02\n",
            "    1.93119049e-05  2.94212364e-02 -3.45945470e-02  2.18933858e-02\n",
            "   -1.74788125e-02 -2.18266845e-02]\n",
            "  [-1.63247585e-02  3.14583629e-03 -4.69005108e-03  2.09174789e-02\n",
            "    3.06092165e-02 -2.04161890e-02  2.94783004e-02 -3.10891159e-02\n",
            "    1.42978318e-02  4.08987664e-02]\n",
            "  [ 4.30021770e-02 -3.00680995e-02 -4.31266204e-02  4.17110585e-02\n",
            "   -4.02871519e-03 -9.26474482e-03 -4.24323454e-02  2.41095163e-02\n",
            "    1.91201009e-02  4.86542098e-02]\n",
            "  [-2.99602393e-02 -1.54043362e-03  4.59203757e-02  1.19819418e-02\n",
            "    3.33640315e-02 -4.61335294e-02  3.63517739e-02  5.71223348e-03\n",
            "   -3.54533680e-02  3.58151533e-02]\n",
            "  [-1.88765172e-02 -6.16376474e-03 -1.43930428e-02  1.75968520e-02\n",
            "   -3.91107798e-03  1.46187060e-02  3.97720188e-03  3.24906595e-02\n",
            "   -4.38630097e-02 -1.19965151e-03]\n",
            "  [-4.41696160e-02 -2.58668792e-02  3.69087569e-02 -4.52633500e-02\n",
            "   -3.67323384e-02  2.64056586e-02 -4.24191132e-02 -2.09178682e-02\n",
            "    2.07724087e-02  1.67176872e-03]\n",
            "  [-4.41696160e-02 -2.58668792e-02  3.69087569e-02 -4.52633500e-02\n",
            "   -3.67323384e-02  2.64056586e-02 -4.24191132e-02 -2.09178682e-02\n",
            "    2.07724087e-02  1.67176872e-03]\n",
            "  [-4.41696160e-02 -2.58668792e-02  3.69087569e-02 -4.52633500e-02\n",
            "   -3.67323384e-02  2.64056586e-02 -4.24191132e-02 -2.09178682e-02\n",
            "    2.07724087e-02  1.67176872e-03]]\n",
            "\n",
            " [[ 2.51205452e-02  2.69343592e-02 -2.88062170e-03 -2.36996897e-02\n",
            "   -1.57560036e-03 -1.48342140e-02 -3.93015742e-02 -3.24316844e-02\n",
            "    4.45487611e-02 -3.81821170e-02]\n",
            "  [-1.63247585e-02  3.14583629e-03 -4.69005108e-03  2.09174789e-02\n",
            "    3.06092165e-02 -2.04161890e-02  2.94783004e-02 -3.10891159e-02\n",
            "    1.42978318e-02  4.08987664e-02]\n",
            "  [ 4.30021770e-02 -3.00680995e-02 -4.31266204e-02  4.17110585e-02\n",
            "   -4.02871519e-03 -9.26474482e-03 -4.24323454e-02  2.41095163e-02\n",
            "    1.91201009e-02  4.86542098e-02]\n",
            "  [ 2.09574141e-02 -1.64830908e-02 -2.29699258e-02 -1.81527846e-02\n",
            "   -4.98732328e-02  3.35147642e-02  3.60553600e-02 -7.29632378e-03\n",
            "   -2.83894427e-02 -4.01859879e-02]\n",
            "  [-4.16634567e-02  1.08894333e-02 -4.16788831e-02 -1.12642050e-02\n",
            "   -3.46610546e-02 -2.42192745e-02 -1.17699057e-03 -2.53995191e-02\n",
            "    2.18698271e-02  1.69209726e-02]\n",
            "  [-1.70125142e-02  1.56136043e-02 -2.61835698e-02  3.83196212e-02\n",
            "   -2.91471966e-02  1.30813606e-02  2.18331553e-02  7.78324902e-05\n",
            "   -4.25286889e-02  8.56009871e-03]\n",
            "  [-4.41696160e-02 -2.58668792e-02  3.69087569e-02 -4.52633500e-02\n",
            "   -3.67323384e-02  2.64056586e-02 -4.24191132e-02 -2.09178682e-02\n",
            "    2.07724087e-02  1.67176872e-03]\n",
            "  [-4.41696160e-02 -2.58668792e-02  3.69087569e-02 -4.52633500e-02\n",
            "   -3.67323384e-02  2.64056586e-02 -4.24191132e-02 -2.09178682e-02\n",
            "    2.07724087e-02  1.67176872e-03]\n",
            "  [-4.41696160e-02 -2.58668792e-02  3.69087569e-02 -4.52633500e-02\n",
            "   -3.67323384e-02  2.64056586e-02 -4.24191132e-02 -2.09178682e-02\n",
            "    2.07724087e-02  1.67176872e-03]\n",
            "  [-4.41696160e-02 -2.58668792e-02  3.69087569e-02 -4.52633500e-02\n",
            "   -3.67323384e-02  2.64056586e-02 -4.24191132e-02 -2.09178682e-02\n",
            "    2.07724087e-02  1.67176872e-03]]]\n"
          ]
        }
      ]
    },
    {
      "cell_type": "code",
      "source": [],
      "metadata": {
        "id": "Q3iDeCk3Vyue"
      },
      "execution_count": null,
      "outputs": []
    }
  ]
}