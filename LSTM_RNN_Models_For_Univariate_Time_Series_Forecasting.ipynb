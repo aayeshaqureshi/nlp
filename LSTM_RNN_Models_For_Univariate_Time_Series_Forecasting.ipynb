{
  "nbformat": 4,
  "nbformat_minor": 0,
  "metadata": {
    "colab": {
      "provenance": [],
      "authorship_tag": "ABX9TyORnL0JDg+3OnPsot9fJl1j",
      "include_colab_link": true
    },
    "kernelspec": {
      "name": "python3",
      "display_name": "Python 3"
    },
    "language_info": {
      "name": "python"
    }
  },
  "cells": [
    {
      "cell_type": "markdown",
      "metadata": {
        "id": "view-in-github",
        "colab_type": "text"
      },
      "source": [
        "<a href=\"https://colab.research.google.com/github/aayeshaqureshi/nlp/blob/main/LSTM_RNN_Models_For_Univariate_Time_Series_Forecasting.ipynb\" target=\"_parent\"><img src=\"https://colab.research.google.com/assets/colab-badge.svg\" alt=\"Open In Colab\"/></a>"
      ]
    },
    {
      "cell_type": "code",
      "execution_count": 11,
      "metadata": {
        "id": "OBuwIWeC2Ymc"
      },
      "outputs": [],
      "source": [
        "#univariate time series forecasting\n",
        "# considering prev 3 day price predict the next price\n",
        "\n"
      ]
    },
    {
      "cell_type": "markdown",
      "source": [
        "# the first step is data preprocessing\n",
        "### days-   1    2    3    4    5    6    7    8    9    10\n",
        "### prices- [110,125, 133, 146, 158, 172, 187, 196, 210]\n",
        "### predict the price for the 10th day considering prev 3 days\n",
        "we are taking 3 time stamps and predicting the prices for the 4th day in each iteration\n",
        "3 values are x independent features and the 4th day value y is the dependent feature\n"
      ],
      "metadata": {
        "id": "74njswlU4vZw"
      }
    },
    {
      "cell_type": "markdown",
      "source": [
        "###We are going to apply a simple LSTM RNN model\n",
        "###prediction for the future 10 days \n",
        "###plotting- visualization\n",
        "\n",
        "---\n",
        "\n",
        "\n"
      ],
      "metadata": {
        "id": "7lF3PLaZ_5cb"
      }
    },
    {
      "cell_type": "code",
      "source": [
        "# starting by importing all the required libraries\n",
        "import numpy as np\n",
        "from numpy import array\n",
        "from tensorflow.keras.models import Sequential\n",
        "from tensorflow.keras.layers import LSTM\n",
        "from tensorflow.keras.layers import Dense\n",
        "from tensorflow.keras.layers import Flatten\n",
        "\n",
        "\n"
      ],
      "metadata": {
        "id": "fn19jZbA_4hh"
      },
      "execution_count": 12,
      "outputs": []
    },
    {
      "cell_type": "code",
      "source": [
        "#prepare_data function\n",
        "def prepare_data(timeseries_data, n_features):\n",
        "  #intialize x and y which is in the form of list\n",
        "  X,y =[],[]\n",
        "  for i in range(len(timeseries_data)):\n",
        "    #find the end of this pattern\n",
        "    end_ix= i+ n_features\n",
        "    # check if we are beyond sequence \n",
        "    if end_ix> len(timeseries_data)-1:\n",
        "      break\n",
        "    #otherwise store it in the sequnce x values\n",
        "    #and the next value stores in the y axis\n",
        "    seq_x, seq_y=timeseries_data[i:end_ix],timeseries_data[end_ix]\n",
        "    X.append(seq_x)\n",
        "    y.append(seq_y)\n",
        "  return np.array(X), np.array(y)\n",
        "  \n"
      ],
      "metadata": {
        "id": "UONzGlgqBYNv"
      },
      "execution_count": 20,
      "outputs": []
    },
    {
      "cell_type": "code",
      "source": [
        "#define input sequence \n",
        "timeseries_data= [110,125, 133, 146, 158, 172, 187, 196, 210]\n",
        "#choose number of timestamps\n",
        "n_steps=3\n",
        "#split into samples\n",
        "#we make a function call to preapre our independent and dependent features\n",
        "X,y = prepare_data(timeseries_data, n_steps)"
      ],
      "metadata": {
        "id": "i94mRDYqBYMK"
      },
      "execution_count": 21,
      "outputs": []
    },
    {
      "cell_type": "code",
      "source": [
        "print(X), print(y)\n"
      ],
      "metadata": {
        "colab": {
          "base_uri": "https://localhost:8080/"
        },
        "id": "E00YTiA0BYI0",
        "outputId": "83aa38fd-82a3-4212-c85c-422978e14bc2"
      },
      "execution_count": 22,
      "outputs": [
        {
          "output_type": "stream",
          "name": "stdout",
          "text": [
            "[[110 125 133]\n",
            " [125 133 146]\n",
            " [133 146 158]\n",
            " [146 158 172]\n",
            " [158 172 187]\n",
            " [172 187 196]]\n",
            "[146 158 172 187 196 210]\n"
          ]
        },
        {
          "output_type": "execute_result",
          "data": {
            "text/plain": [
              "(None, None)"
            ]
          },
          "metadata": {},
          "execution_count": 22
        }
      ]
    },
    {
      "cell_type": "code",
      "source": [
        "X.shape\n",
        "# we have 3 features and 6 records"
      ],
      "metadata": {
        "colab": {
          "base_uri": "https://localhost:8080/"
        },
        "id": "xA_DDu0IIkxE",
        "outputId": "a73d0e4b-9801-4083-cc2c-6d88fc94725b"
      },
      "execution_count": 23,
      "outputs": [
        {
          "output_type": "execute_result",
          "data": {
            "text/plain": [
              "(6, 3)"
            ]
          },
          "metadata": {},
          "execution_count": 23
        }
      ]
    },
    {
      "cell_type": "markdown",
      "source": [
        "# Buidling an LSTM model"
      ],
      "metadata": {
        "id": "Kn_6gj10IrPk"
      }
    },
    {
      "cell_type": "markdown",
      "source": [
        "whenever we implement LSTM we have to reshape our data into 3 dimensions. \n",
        "1. number of records\n",
        "2. number of timestamps here 3\n",
        "3. n_features\n"
      ],
      "metadata": {
        "id": "Xu3GnPMIIvfG"
      }
    },
    {
      "cell_type": "code",
      "source": [
        "#reshape from [sample, timestamps] to [sample, timestamps, features]\n",
        "n_features=1\n",
        "X= X.reshape((X.shape[0],X.shape[1], n_features))"
      ],
      "metadata": {
        "id": "7gWGkFvsIkvb"
      },
      "execution_count": 24,
      "outputs": []
    },
    {
      "cell_type": "code",
      "source": [
        "#define model\n",
        "#intially we create  a sequential layer\n",
        "model= Sequential()\n",
        "#then add the lstm layers\n",
        "#in input shape we give n_steps and n_features\n",
        "#n_steps is the number of timestamps\n",
        "\n",
        "#we take 50 hidden neurons in every layer\n",
        "model.add(LSTM(50, activation='relu', return_sequences=True, input_shape= (n_steps, n_features)))\n",
        "model.add(LSTM(50, activation='relu'))\n",
        "#output node\n",
        "model.add(Dense(1))\n",
        "model.compile(optimizer='adam', loss='mse')\n",
        "#fit the model\n",
        "model.fit(X,y, epochs=300, verbose=0)\n",
        "#verbose will display you how the epochs are taking place\n",
        "\n",
        "\n",
        "\n"
      ],
      "metadata": {
        "colab": {
          "base_uri": "https://localhost:8080/"
        },
        "id": "1EFfT9dEIksf",
        "outputId": "bb803bc0-b84c-4f1a-a45e-f46411d90521"
      },
      "execution_count": 25,
      "outputs": [
        {
          "output_type": "execute_result",
          "data": {
            "text/plain": [
              "<keras.callbacks.History at 0x7f04717e25e0>"
            ]
          },
          "metadata": {},
          "execution_count": 25
        }
      ]
    },
    {
      "cell_type": "markdown",
      "source": [
        "#predict for the next 10 days of data\n"
      ],
      "metadata": {
        "id": "9JiugiTkNUqs"
      }
    },
    {
      "cell_type": "code",
      "source": [
        "#append the outout into the input list and use the last  values to calculte the next days prediction\n",
        "x_input = array([187, 196, 210])\n",
        "temp_input=list(x_input)\n",
        "lst_output=[]\n",
        "i=0\n",
        "while(i<10):\n",
        "    \n",
        "    if(len(temp_input)>3):\n",
        "        x_input=array(temp_input[1:])\n",
        "        print(\"{} day input {}\".format(i,x_input))\n",
        "        #print(x_input)\n",
        "        x_input = x_input.reshape((1, n_steps, n_features))\n",
        "        #print(x_input)\n",
        "        yhat = model.predict(x_input, verbose=0)\n",
        "        print(\"{} day output {}\".format(i,yhat))\n",
        "        temp_input.append(yhat[0][0])\n",
        "        temp_input=temp_input[1:]\n",
        "        #print(temp_input)\n",
        "        lst_output.append(yhat[0][0])\n",
        "        i=i+1\n",
        "    else:\n",
        "        x_input = x_input.reshape((1, n_steps, n_features))\n",
        "        yhat = model.predict(x_input, verbose=0)\n",
        "        print(yhat[0])\n",
        "        temp_input.append(yhat[0][0])\n",
        "        lst_output.append(yhat[0][0])\n",
        "        i=i+1\n",
        "    \n",
        "\n",
        "print(lst_output)\n",
        "\n",
        "#each time the output is appended \n",
        "#finally the ouput for the next 10 days is printed \n",
        "\n"
      ],
      "metadata": {
        "colab": {
          "base_uri": "https://localhost:8080/"
        },
        "id": "004IsA2HIkq2",
        "outputId": "33a0befd-a770-484f-a18e-248139f3204c"
      },
      "execution_count": 26,
      "outputs": [
        {
          "output_type": "stream",
          "name": "stdout",
          "text": [
            "[223.83601]\n",
            "1 day input [196.         210.         223.83601379]\n",
            "1 day output [[234.89862]]\n",
            "2 day input [210.         223.83601379 234.89862061]\n",
            "2 day output [[248.47139]]\n",
            "3 day input [223.83601 234.89862 248.47139]\n",
            "3 day output [[261.7161]]\n",
            "4 day input [234.89862 248.47139 261.7161 ]\n",
            "4 day output [[274.0763]]\n",
            "5 day input [248.47139 261.7161  274.0763 ]\n",
            "5 day output [[287.83917]]\n",
            "6 day input [261.7161  274.0763  287.83917]\n",
            "6 day output [[301.4766]]\n",
            "7 day input [274.0763  287.83917 301.4766 ]\n",
            "7 day output [[314.99658]]\n",
            "8 day input [287.83917 301.4766  314.99658]\n",
            "8 day output [[329.42572]]\n",
            "9 day input [301.4766  314.99658 329.42572]\n",
            "9 day output [[343.94504]]\n",
            "[223.83601, 234.89862, 248.47139, 261.7161, 274.0763, 287.83917, 301.4766, 314.99658, 329.42572, 343.94504]\n"
          ]
        }
      ]
    },
    {
      "cell_type": "markdown",
      "source": [
        "#Visualizing the output\n"
      ],
      "metadata": {
        "id": "cWEjpelF2lXH"
      }
    },
    {
      "cell_type": "code",
      "source": [
        "import matplotlib.pyplot as plt\n",
        "day_new= np.arange(1,10)\n",
        "day_pred= np.arange(10,20)\n"
      ],
      "metadata": {
        "id": "3SETONWY1zvQ"
      },
      "execution_count": 28,
      "outputs": []
    },
    {
      "cell_type": "code",
      "source": [
        "plt.plot(day_new, timeseries_data)\n",
        "plt.plot(day_pred, lst_output)\n",
        "\n"
      ],
      "metadata": {
        "colab": {
          "base_uri": "https://localhost:8080/",
          "height": 282
        },
        "id": "FOwoSVdC1zrN",
        "outputId": "c0c98bb8-70a2-457e-dc74-95812165c614"
      },
      "execution_count": 29,
      "outputs": [
        {
          "output_type": "execute_result",
          "data": {
            "text/plain": [
              "[<matplotlib.lines.Line2D at 0x7f0471270820>]"
            ]
          },
          "metadata": {},
          "execution_count": 29
        },
        {
          "output_type": "display_data",
          "data": {
            "text/plain": [
              "<Figure size 432x288 with 1 Axes>"
            ],
            "image/png": "[encoded data removed]"
          },
          "metadata": {
            "needs_background": "light"
          }
        }
      ]
    },
    {
      "cell_type": "code",
      "source": [],
      "metadata": {
        "id": "HL5okevc1zpe"
      },
      "execution_count": null,
      "outputs": []
    },
    {
      "cell_type": "code",
      "source": [],
      "metadata": {
        "id": "ggAOyKlBNYop"
      },
      "execution_count": 19,
      "outputs": []
    },
    {
      "cell_type": "code",
      "source": [],
      "metadata": {
        "id": "v3HeNqnyNYcR"
      },
      "execution_count": 19,
      "outputs": []
    },
    {
      "cell_type": "code",
      "source": [],
      "metadata": {
        "id": "01mev0UeNYai"
      },
      "execution_count": 19,
      "outputs": []
    },
    {
      "cell_type": "code",
      "source": [],
      "metadata": {
        "id": "_3kf5AHANYXL"
      },
      "execution_count": 19,
      "outputs": []
    },
    {
      "cell_type": "code",
      "source": [],
      "metadata": {
        "id": "WIvBaR4ONYVs"
      },
      "execution_count": 19,
      "outputs": []
    },
    {
      "cell_type": "code",
      "source": [],
      "metadata": {
        "id": "cAggwXzPBYHF"
      },
      "execution_count": 19,
      "outputs": []
    },
    {
      "cell_type": "code",
      "source": [],
      "metadata": {
        "id": "yZ4F2DI64u9Z"
      },
      "execution_count": 19,
      "outputs": []
    }
  ]
}